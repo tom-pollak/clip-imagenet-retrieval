{
 "cells": [
  {
   "cell_type": "code",
   "execution_count": null,
   "metadata": {},
   "outputs": [],
   "source": [
    "import os\n",
    "import sys\n",
    "sys.path.append(\"..\")\n",
    "\n",
    "import sqlite3\n",
    "from pathlib import Path\n",
    "\n",
    "from PIL import Image\n",
    "import matplotlib.pyplot as plt"
   ]
  },
  {
   "cell_type": "code",
   "execution_count": 7,
   "metadata": {},
   "outputs": [],
   "source": [
    "sqlite_path = Path(\"/Users/tom/projects/clip-index/assets/clip_image.db\")\n",
    "index_folder = Path(\"/Volumes/T7/CLIP-indexes/motis-128/val/\")"
   ]
  },
  {
   "cell_type": "code",
   "execution_count": 8,
   "metadata": {},
   "outputs": [],
   "source": [
    "from clip_index.imagenet import ImagenetDETDataset\n",
    "\n",
    "imagenet_root = Path(\"/Volumes/T7/ILSVRC/\")\n",
    "imagenet_synset = Path(\"../assets/imagenet_synset_det.txt\")\n",
    "dataset = ImagenetDETDataset(imagenet_root, imagenet_synset)\n"
   ]
  },
  {
   "cell_type": "code",
   "execution_count": 9,
   "metadata": {},
   "outputs": [],
   "source": [
    "# Create sqlite DB\n",
    "# schema_path = Path().resolve().parent / \"config/schema.sql\"\n",
    "# !sqlite3 {sqlite_path} < {schema_path}"
   ]
  },
  {
   "cell_type": "code",
   "execution_count": 10,
   "metadata": {},
   "outputs": [],
   "source": [
    "assert sqlite_path.exists()\n",
    "conn = sqlite3.connect(sqlite_path)\n",
    "cur = conn.cursor()"
   ]
  },
  {
   "cell_type": "code",
   "execution_count": 11,
   "metadata": {},
   "outputs": [],
   "source": [
    "# Build indexes\n",
    "# from clip_index.config import BuildCfg\n",
    "# from clip_index.build import build_indexes_from_imgs\n",
    "\n",
    "# image_dir = Path(\"/Volumes/T7/ILSVRC/Data/DET/val\")\n",
    "# bcfg = BuildCfg(index_size=128)\n",
    "# model = bcfg.load_model()\n",
    "\n",
    "# build_indexes_from_imgs(model, image_dir, index_folder, conn, bcfg)"
   ]
  },
  {
   "cell_type": "code",
   "execution_count": 12,
   "metadata": {},
   "outputs": [],
   "source": [
    "# Experiment with query engineering\n",
    "query_prefix = \"\"\n",
    "queries = [query_prefix + cls for cls in dataset._synset2desc.values()]\n",
    "# Remove query_prefix from queries\n",
    "# annoy_queries = dict(map(lambda q: (q[0].replace(query_prefix, ''), q[1]), annoy_queries.items()))"
   ]
  },
  {
   "cell_type": "code",
   "execution_count": 1,
   "metadata": {},
   "outputs": [
    {
     "ename": "ModuleNotFoundError",
     "evalue": "No module named 'clip_index'",
     "output_type": "error",
     "traceback": [
      "\u001b[0;31m---------------------------------------------------------------------------\u001b[0m",
      "\u001b[0;31mModuleNotFoundError\u001b[0m                       Traceback (most recent call last)",
      "Cell \u001b[0;32mIn[1], line 3\u001b[0m\n\u001b[1;32m      1\u001b[0m \u001b[39m# Query indexes\u001b[39;00m\n\u001b[1;32m      2\u001b[0m \u001b[39m# Plurals\u001b[39;00m\n\u001b[0;32m----> 3\u001b[0m \u001b[39mfrom\u001b[39;00m \u001b[39mclip_index\u001b[39;00m \u001b[39mimport\u001b[39;00m QueryCfg\n\u001b[1;32m      4\u001b[0m \u001b[39mfrom\u001b[39;00m \u001b[39mclip_index\u001b[39;00m \u001b[39mimport\u001b[39;00m query_index, filter_closest_n_results\n\u001b[1;32m      5\u001b[0m \u001b[39mfrom\u001b[39;00m \u001b[39mclip_index\u001b[39;00m\u001b[39m.\u001b[39;00m\u001b[39mstats\u001b[39;00m \u001b[39mimport\u001b[39;00m annoy_query_stats, QueryStats\n",
      "\u001b[0;31mModuleNotFoundError\u001b[0m: No module named 'clip_index'"
     ]
    }
   ],
   "source": [
    "# Query indexes\n",
    "# Plurals\n",
    "from clip_index import QueryCfg\n",
    "from clip_index import query_index, filter_closest_n_results\n",
    "from clip_index.stats import annoy_query_stats, QueryStats\n",
    "\n",
    "max_thres = 1.25\n",
    "qcfg = QueryCfg(threshold=max_thres)\n",
    "queries = [\"zebra\"]\n",
    "annoy_queries = query_index(index_folder, queries, cur, qcfg)\n",
    "dataset.add_imagenet_classes(annoy_queries)"
   ]
  },
  {
   "cell_type": "code",
   "execution_count": 150,
   "metadata": {},
   "outputs": [
    {
     "name": "stdout",
     "output_type": "stream",
     "text": [
      "The best threshold is: 1.1\n"
     ]
    }
   ],
   "source": [
    "best_idx = thres_stats.mean(0).argmax().item()\n",
    "best_threshold = thresholds[best_idx].item()\n",
    "print(\"The best threshold is:\", round(best_threshold, 3))"
   ]
  },
  {
   "cell_type": "code",
   "execution_count": 151,
   "metadata": {},
   "outputs": [
    {
     "data": {
      "image/png": "[encoded data removed]",
      "text/plain": [
       "<Figure size 640x480 with 1 Axes>"
      ]
     },
     "metadata": {},
     "output_type": "display_data"
    }
   ],
   "source": [
    "ys = thres_stats.mean(0)\n",
    "# Second peak from divide by zero errors giving 1\n",
    "plt.plot(thresholds, ys);"
   ]
  },
  {
   "cell_type": "code",
   "execution_count": null,
   "metadata": {},
   "outputs": [],
   "source": []
  },
  {
   "cell_type": "code",
   "execution_count": null,
   "metadata": {},
   "outputs": [],
   "source": [
    "n = 5\n",
    "\n",
    "# thres_maxes = thres_stats.max(1).values\n",
    "# best_qs = thres_maxes[thres_maxes != 1].topk(n)\n",
    "# worst_qs = (thres_maxes * -1).topk(n)\n",
    "\n",
    "thres_values = thres_stats[:, best_idx]\n",
    "best_qs = thres_values[thres_values != 1].topk(n)\n",
    "worst_qs = thres_values.topk(n)\n",
    "\n",
    "best_thres = 1.1\n",
    "\n",
    "print(f\"Top {n} best performing queries\")\n",
    "for i, f1 in zip(best_qs.indices, best_qs.values):\n",
    "    print(\"%s %.2f\" % (queries[i], f1.item()))\n",
    "\n",
    "    ##### WHY AM I GETTING DIFFERNT RESULTS THAN ABOVE\n",
    "    q = queries[i]\n",
    "    imgs = annoy_queries[q]\n",
    "    fimgs = filter(lambda x: x.dist < best_thres, imgs)\n",
    "    qstat = annoy_query_stats(q, fimgs, total_each_class[q], total_dataset)\n",
    "    print(\"correct: %d, incorrect %d, not found %d\" % (qstat.tp, qstat.fp, qstat.fn))\n",
    "    print(qstat.format_stats())\n",
    "    print()\n",
    "\n",
    "print(f\"Top {n} worst performing queries\")\n",
    "for i, f1 in zip(worst_qs.indices, worst_qs.values):\n",
    "    print(\"%s %.2f\" % (queries[i], -f1.item()))\n",
    "    q = queries[i]\n",
    "    imgs = annoy_queries[q]\n",
    "    fimgs = filter(lambda x: x.dist < best_thres, imgs)\n",
    "    qstat = annoy_query_stats(q, fimgs, total_each_class[q], total_dataset)\n",
    "    print(\"correct: %d, incorrect %d, not found %d\" % (qstat.tp, qstat.fp, qstat.fn))\n",
    "    print(qstat.format_stats())\n",
    "    print()\n"
   ]
  },
  {
   "cell_type": "code",
   "execution_count": null,
   "metadata": {},
   "outputs": [
    {
     "ename": "NameError",
     "evalue": "name 'annoy_queries' is not defined",
     "output_type": "error",
     "traceback": [
      "\u001b[0;31m---------------------------------------------------------------------------\u001b[0m\n",
      "\u001b[0;31mNameError\u001b[0m                                 Traceback (most recent call last)\n",
      "Cell \u001b[0;32mIn[9], line 7\u001b[0m\n",
      "\u001b[1;32m      4\u001b[0m \u001b[39mimport\u001b[39;00m \u001b[39mtorch\u001b[39;00m\n",
      "\u001b[1;32m      5\u001b[0m thresholds \u001b[39m=\u001b[39m torch\u001b[39m.\u001b[39marange(\u001b[39m0.95\u001b[39m, \u001b[39m1.25\u001b[39m, \u001b[39m0.01\u001b[39m)\n",
      "\u001b[0;32m----> 7\u001b[0m thres_stats \u001b[39m=\u001b[39m torch\u001b[39m.\u001b[39mempty(\u001b[39mlen\u001b[39m(annoy_queries), \u001b[39mlen\u001b[39m(thresholds))\n",
      "\u001b[1;32m      8\u001b[0m \u001b[39mfor\u001b[39;00m i, (q, imgs) \u001b[39min\u001b[39;00m \u001b[39menumerate\u001b[39m(annoy_queries\u001b[39m.\u001b[39mitems()):\n",
      "\u001b[1;32m      9\u001b[0m     \u001b[39mfor\u001b[39;00m j, thres \u001b[39min\u001b[39;00m \u001b[39menumerate\u001b[39m(thresholds):\n",
      "\n",
      "\u001b[0;31mNameError\u001b[0m: name 'annoy_queries' is not defined"
     ]
    }
   ],
   "source": [
    "total_each_class = dataset.total_each_class(\"val\")\n",
    "total_dataset = dataset.get_num_images(\"val\")\n",
    "\n",
    "import torch\n",
    "thresholds = torch.arange(0.95, 1.25, 0.01)\n",
    "\n",
    "thres_stats = torch.empty(len(annoy_queries), len(thresholds))\n",
    "for i, (q, imgs) in enumerate(annoy_queries.items()):\n",
    "    for j, thres in enumerate(thresholds):\n",
    "        thres_imgs = filter(lambda x: x.dist < thres, imgs)\n",
    "        qstats = annoy_query_stats(q, thres_imgs, total_each_class[q], total_dataset)\n",
    "        f1 = qstats.f1()\n",
    "        thres_stats[i, j] = f1"
   ]
  },
  {
   "cell_type": "code",
   "execution_count": null,
   "metadata": {},
   "outputs": [],
   "source": [
    "# filter_closest_n_results(annoy_queries, 100)\n",
    "# Remove queries with no results\n",
    "# annoy_queries = dict(filter(lambda q: q[1] != [], annoy_queries.items()))"
   ]
  },
  {
   "cell_type": "code",
   "execution_count": 7,
   "metadata": {},
   "outputs": [],
   "source": [
    "# from clip_index import show_queries\n",
    "# show_queries(annoy_queries)\n",
    "# pass # Otherwise it'll show twice"
   ]
  },
  {
   "cell_type": "code",
   "execution_count": 9,
   "metadata": {},
   "outputs": [
    {
     "name": "stdout",
     "output_type": "stream",
     "text": [
      "zebra\n",
      "accuracy: 0.9993, precision: 0.7931, recall: 0.7188, f1: 0.7541\n",
      "\n"
     ]
    }
   ],
   "source": [
    "    \n",
    "    ### Thing is, lot of these images are mislabeled!\n",
    "#     if incorrect_clss:\n",
    "        # Incorrect classes can be empty for images with no tags\n",
    "#         for path, clss, dist in incorrect_clss:\n",
    "#             print(path)\n",
    "#             plt.figure()\n",
    "#             plt.imshow(Image.open(path))\n",
    "#             plt.title(\"%s - %.4f\" % (clss, dist))\n",
    "#             plt.axis('off')\n",
    "#         pass\n",
    "    print()"
   ]
  },
  {
   "cell_type": "code",
   "execution_count": null,
   "metadata": {},
   "outputs": [],
   "source": [
    "zebra_files = ['/Volumes/T7/ILSVRC/Data/DET/val/ILSVRC2012_val_00014584.JPEG', '/Volumes/T7/ILSVRC/Data/DET/val/ILSVRC2012_val_00046413.JPEG', '/Volumes/T7/ILSVRC/Data/DET/val/ILSVRC2012_val_00033660.JPEG', '/Volumes/T7/ILSVRC/Data/DET/val/ILSVRC2012_val_00035763.JPEG', '/Volumes/T7/ILSVRC/Data/DET/val/ILSVRC2012_val_00032022.JPEG', '/Volumes/T7/ILSVRC/Data/DET/val/ILSVRC2013_val_00003883.JPEG', '/Volumes/T7/ILSVRC/Data/DET/val/ILSVRC2012_val_00018423.JPEG', '/Volumes/T7/ILSVRC/Data/DET/val/ILSVRC2012_val_00012974.JPEG', '/Volumes/T7/ILSVRC/Data/DET/val/ILSVRC2012_val_00009159.JPEG', '/Volumes/T7/ILSVRC/Data/DET/val/ILSVRC2013_val_00002872.JPEG', '/Volumes/T7/ILSVRC/Data/DET/val/ILSVRC2012_val_00017212.JPEG', '/Volumes/T7/ILSVRC/Data/DET/val/ILSVRC2012_val_00012340.JPEG', '/Volumes/T7/ILSVRC/Data/DET/val/ILSVRC2012_val_00015166.JPEG', '/Volumes/T7/ILSVRC/Data/DET/val/ILSVRC2012_val_00048670.JPEG', '/Volumes/T7/ILSVRC/Data/DET/val/ILSVRC2012_val_00005604.JPEG', '/Volumes/T7/ILSVRC/Data/DET/val/ILSVRC2012_val_00037475.JPEG', '/Volumes/T7/ILSVRC/Data/DET/val/ILSVRC2012_val_00023212.JPEG', '/Volumes/T7/ILSVRC/Data/DET/val/ILSVRC2012_val_00035101.JPEG', '/Volumes/T7/ILSVRC/Data/DET/val/ILSVRC2012_val_00037886.JPEG', '/Volumes/T7/ILSVRC/Data/DET/val/ILSVRC2012_val_00024175.JPEG', '/Volumes/T7/ILSVRC/Data/DET/val/ILSVRC2012_val_00006129.JPEG', '/Volumes/T7/ILSVRC/Data/DET/val/ILSVRC2012_val_00004267.JPEG', '/Volumes/T7/ILSVRC/Data/DET/val/ILSVRC2012_val_00037130.JPEG', '/Volumes/T7/ILSVRC/Data/DET/val/ILSVRC2012_val_00030688.JPEG', '/Volumes/T7/ILSVRC/Data/DET/val/ILSVRC2012_val_00029124.JPEG', '/Volumes/T7/ILSVRC/Data/DET/val/ILSVRC2012_val_00043935.JPEG', '/Volumes/T7/ILSVRC/Data/DET/val/ILSVRC2012_val_00002996.JPEG', '/Volumes/T7/ILSVRC/Data/DET/val/ILSVRC2012_val_00009633.JPEG', '/Volumes/T7/ILSVRC/Data/DET/val/ILSVRC2013_val_00003050.JPEG', '/Volumes/T7/ILSVRC/Data/DET/val/ILSVRC2012_val_00042330.JPEG', '/Volumes/T7/ILSVRC/Data/DET/val/ILSVRC2012_val_00015124.JPEG', '/Volumes/T7/ILSVRC/Data/DET/val/ILSVRC2012_val_00047305.JPEG']\n",
    "for z in zebra_files:\n",
    "    plt.figure()\n",
    "    plt.imshow(Image.open(z))\n",
    "    plt.axis('off')\n",
    "    clss = dataset.get_classes_from_image_path(Path(z))\n",
    "    plt.title(clss)\n"
   ]
  },
  {
   "cell_type": "code",
   "execution_count": null,
   "metadata": {},
   "outputs": [],
   "source": []
  },
  {
   "cell_type": "code",
   "execution_count": null,
   "metadata": {},
   "outputs": [],
   "source": [
    "def normally_distributed_thresholds(start, end, mean, std, epsilon=0.0005):\n",
    "    def normal_step_size(x):\n",
    "        return abs((x - mean)/std) + epsilon\n",
    "    xs = []\n",
    "    cur = start\n",
    "    while cur < end:\n",
    "        xs.append(cur)\n",
    "        cur += normal_step_size(cur)\n",
    "    return xs\n",
    "\n",
    "    \n",
    "mean = 1.08\n",
    "std = 3\n",
    "start = 0.96\n",
    "end = 1.2\n",
    "\n",
    "norm_xs = normally_distributed_thresholds(start, end, mean, std)\n",
    "ys = range(len(xs))\n",
    "plt.plot(xs, ys);"
   ]
  }
 ],
 "metadata": {
  "kernelspec": {
   "display_name": ".venv",
   "language": "python",
   "name": "python3"
  },
  "language_info": {
   "codemirror_mode": {
    "name": "ipython",
    "version": 3
   },
   "file_extension": ".py",
   "mimetype": "text/x-python",
   "name": "python",
   "nbconvert_exporter": "python",
   "pygments_lexer": "ipython3",
   "version": "3.10.9"
  },
  "vscode": {
   "interpreter": {
    "hash": "1e6d881ea684a875300395f592faa603dba5500740f12ac39c0db3bab79fd55a"
   }
  }
 },
 "nbformat": 4,
 "nbformat_minor": 2
}
